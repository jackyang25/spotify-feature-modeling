{
  "cells": [
    {
      "cell_type": "code",
      "execution_count": 1,
      "metadata": {
        "colab": {
          "base_uri": "https://localhost:8080/"
        },
        "id": "HvAhJfdGQOKw",
        "outputId": "0e7bfa62-42d7-4935-8a31-594190a007a9"
      },
      "outputs": [
        {
          "name": "stdout",
          "output_type": "stream",
          "text": [
            "Requirement already satisfied: catboost in c:\\users\\joshl\\anaconda3\\lib\\site-packages (1.2.8)\n",
            "Requirement already satisfied: graphviz in c:\\users\\joshl\\anaconda3\\lib\\site-packages (from catboost) (0.20.3)\n",
            "Requirement already satisfied: matplotlib in c:\\users\\joshl\\appdata\\roaming\\python\\python312\\site-packages (from catboost) (3.9.1)\n",
            "Requirement already satisfied: numpy<3.0,>=1.16.0 in c:\\users\\joshl\\appdata\\roaming\\python\\python312\\site-packages (from catboost) (1.26.4)\n",
            "Requirement already satisfied: pandas>=0.24 in c:\\users\\joshl\\appdata\\roaming\\python\\python312\\site-packages (from catboost) (2.2.2)\n",
            "Requirement already satisfied: scipy in c:\\users\\joshl\\appdata\\roaming\\python\\python312\\site-packages (from catboost) (1.14.0)\n",
            "Requirement already satisfied: plotly in c:\\users\\joshl\\appdata\\roaming\\python\\python312\\site-packages (from catboost) (5.24.1)\n",
            "Requirement already satisfied: six in c:\\users\\joshl\\appdata\\roaming\\python\\python312\\site-packages (from catboost) (1.16.0)\n",
            "Requirement already satisfied: python-dateutil>=2.8.2 in c:\\users\\joshl\\appdata\\roaming\\python\\python312\\site-packages (from pandas>=0.24->catboost) (2.9.0.post0)\n",
            "Requirement already satisfied: pytz>=2020.1 in c:\\users\\joshl\\appdata\\roaming\\python\\python312\\site-packages (from pandas>=0.24->catboost) (2024.1)\n",
            "Requirement already satisfied: tzdata>=2022.7 in c:\\users\\joshl\\appdata\\roaming\\python\\python312\\site-packages (from pandas>=0.24->catboost) (2024.1)\n",
            "Requirement already satisfied: contourpy>=1.0.1 in c:\\users\\joshl\\appdata\\roaming\\python\\python312\\site-packages (from matplotlib->catboost) (1.2.1)\n",
            "Requirement already satisfied: cycler>=0.10 in c:\\users\\joshl\\appdata\\roaming\\python\\python312\\site-packages (from matplotlib->catboost) (0.12.1)\n",
            "Requirement already satisfied: fonttools>=4.22.0 in c:\\users\\joshl\\appdata\\roaming\\python\\python312\\site-packages (from matplotlib->catboost) (4.53.1)\n",
            "Requirement already satisfied: kiwisolver>=1.3.1 in c:\\users\\joshl\\appdata\\roaming\\python\\python312\\site-packages (from matplotlib->catboost) (1.4.5)\n",
            "Requirement already satisfied: packaging>=20.0 in c:\\users\\joshl\\appdata\\roaming\\python\\python312\\site-packages (from matplotlib->catboost) (24.1)\n",
            "Requirement already satisfied: pillow>=8 in c:\\users\\joshl\\appdata\\roaming\\python\\python312\\site-packages (from matplotlib->catboost) (10.4.0)\n",
            "Requirement already satisfied: pyparsing>=2.3.1 in c:\\users\\joshl\\appdata\\roaming\\python\\python312\\site-packages (from matplotlib->catboost) (3.1.2)\n",
            "Requirement already satisfied: tenacity>=6.2.0 in c:\\users\\joshl\\appdata\\roaming\\python\\python312\\site-packages (from plotly->catboost) (9.0.0)\n",
            "Note: you may need to restart the kernel to use updated packages.\n"
          ]
        },
        {
          "name": "stderr",
          "output_type": "stream",
          "text": [
            "\n",
            "[notice] A new release of pip is available: 24.3.1 -> 25.1\n",
            "[notice] To update, run: python.exe -m pip install --upgrade pip\n"
          ]
        },
        {
          "name": "stdout",
          "output_type": "stream",
          "text": [
            "Note: you may need to restart the kernel to use updated packages.Requirement already satisfied: xgboost in c:\\users\\joshl\\anaconda3\\lib\\site-packages (3.0.0)\n",
            "Requirement already satisfied: numpy in c:\\users\\joshl\\appdata\\roaming\\python\\python312\\site-packages (from xgboost) (1.26.4)\n",
            "Requirement already satisfied: scipy in c:\\users\\joshl\\appdata\\roaming\\python\\python312\\site-packages (from xgboost) (1.14.0)\n",
            "\n"
          ]
        },
        {
          "name": "stderr",
          "output_type": "stream",
          "text": [
            "\n",
            "[notice] A new release of pip is available: 24.3.1 -> 25.1\n",
            "[notice] To update, run: python.exe -m pip install --upgrade pip\n"
          ]
        },
        {
          "name": "stdout",
          "output_type": "stream",
          "text": [
            "Requirement already satisfied: lightgbm in c:\\users\\joshl\\anaconda3\\lib\\site-packages (4.6.0)\n",
            "Requirement already satisfied: numpy>=1.17.0 in c:\\users\\joshl\\appdata\\roaming\\python\\python312\\site-packages (from lightgbm) (1.26.4)\n",
            "Requirement already satisfied: scipy in c:\\users\\joshl\\appdata\\roaming\\python\\python312\\site-packages (from lightgbm) (1.14.0)\n",
            "Note: you may need to restart the kernel to use updated packages.\n"
          ]
        },
        {
          "name": "stderr",
          "output_type": "stream",
          "text": [
            "\n",
            "[notice] A new release of pip is available: 24.3.1 -> 25.1\n",
            "[notice] To update, run: python.exe -m pip install --upgrade pip\n"
          ]
        }
      ],
      "source": [
        "%pip install catboost\n",
        "%pip install xgboost\n",
        "%pip install lightgbm"
      ]
    },
    {
      "cell_type": "code",
      "execution_count": 14,
      "metadata": {
        "id": "wClLQzkbQMsb"
      },
      "outputs": [],
      "source": [
        "import pandas as pd\n",
        "import xgboost as xgb\n",
        "from lightgbm import LGBMClassifier\n",
        "from catboost import CatBoostClassifier\n",
        "from sklearn.ensemble import RandomForestClassifier\n",
        "from sklearn.model_selection import train_test_split\n",
        "from sklearn.preprocessing import LabelEncoder\n",
        "from sklearn.metrics import accuracy_score\n",
        "from sklearn.metrics import f1_score, confusion_matrix, classification_report\n",
        "import numpy as np"
      ]
    },
    {
      "cell_type": "code",
      "execution_count": 12,
      "metadata": {
        "colab": {
          "base_uri": "https://localhost:8080/"
        },
        "id": "Z9fBCktZHaqS",
        "outputId": "6d2ee52d-7bbf-43ec-f43e-6ea010191696"
      },
      "outputs": [
        {
          "name": "stdout",
          "output_type": "stream",
          "text": [
            "File loaded successfully.\n",
            "   Unnamed: 0.1  Unnamed: 0          artist_name         track_name  \\\n",
            "0          1044        1044  Menahan Street Band  Seven Is the Wind   \n",
            "1       1130163     1424053            Flatsound         We'll Live   \n",
            "2        927251     1121151              Subhira      Ruta del Inca   \n",
            "3        275932      275932        Scary Pockets         Wonderwall   \n",
            "4        834627      981623    Pain of Salvation        Iter Impius   \n",
            "\n",
            "                 track_id  popularity  year     genre  danceability  energy  \\\n",
            "0  5qh2fad21W9se0d4IpKcyi          22  2012  afrobeat         0.525   0.577   \n",
            "1  1XuAT2hAkjDvGqd4MMv2wL          16  2011       emo         0.339   0.624   \n",
            "2  0ID7odbzAGY7C9cP2PzLRX           0  2007  afrobeat         0.552   0.766   \n",
            "3  120tmueqvWTGdHET4u5sPP          36  2017      funk         0.756   0.732   \n",
            "4  12kxpEvK9B99z02rNRmnSF          26  2004   swedish         0.437   0.584   \n",
            "\n",
            "   ...  speechiness  acousticness  instrumentalness  liveness  valence  \\\n",
            "0  ...       0.0334         0.223          0.877000    0.1850    0.391   \n",
            "1  ...       0.0441         0.804          0.000004    0.1030    0.345   \n",
            "2  ...       0.0364         0.015          0.842000    0.1110    0.266   \n",
            "3  ...       0.0748         0.181          0.000122    0.1900    0.958   \n",
            "4  ...       0.0329         0.386          0.000000    0.0916    0.188   \n",
            "\n",
            "     tempo  duration_ms  time_signature  pop_bucket  decade  \n",
            "0   78.298       308693               4           3   2010s  \n",
            "1  120.558       132056               4           3   2010s  \n",
            "2  119.998       203360               4           3   2000s  \n",
            "3   82.891       222000               4           3   2010s  \n",
            "4  135.836       381000               4           3   2000s  \n",
            "\n",
            "[5 rows x 23 columns]\n"
          ]
        }
      ],
      "source": [
        "# --- LOAD DATA ---\n",
        "try:\n",
        "    df = pd.read_csv('spotify_cleaned.csv')\n",
        " \n",
        "    print(\"File loaded successfully.\")\n",
        "    df['pop_bucket']=df['pop_bucket'].apply(lambda x:x-1)\n",
        "    # Bucket 'popularity'\n",
        "    # df['popularity_bucket'] = pd.cut(\n",
        "    #     df['popularity'],\n",
        "    #     bins=[-1,0,40,60,85],\n",
        "    #     labels=[1, 2, 3, 4]\n",
        "    # ).astype(int)\n",
        "\n",
        "    # print(\"Bucketing completed. Here's a sample:\")\n",
        "    # print(df[['popularity', 'popularity_bucket']].head())\n",
        "    print(df.head(5))\n",
        "except FileNotFoundError:\n",
        "    print(\"Error: File 'spotify_cleaned.csv' not found.\")\n",
        "except pd.errors.EmptyDataError:\n",
        "    print(\"Error: 'spotify_cleaned.csv' is empty.\")\n",
        "except pd.errors.ParserError:\n",
        "    print(\"Error: Unable to parse 'spotify_cleaned.csv'. Check file format.\")\n",
        "except Exception as e:\n",
        "    print(f\"An unexpected error occurred: {e}\")"
      ]
    },
    {
      "cell_type": "markdown",
      "metadata": {
        "id": "OkJhEC9MJQ4W"
      },
      "source": [
        "Use a tree model like XGBoost. Better for tabular data and known features."
      ]
    },
    {
      "cell_type": "code",
      "execution_count": 4,
      "metadata": {
        "id": "bVLIaf_1GlQi"
      },
      "outputs": [],
      "source": [
        "from sklearn.ensemble import RandomForestClassifier\n",
        "from lightgbm import LGBMClassifier\n",
        "from catboost import CatBoostClassifier\n",
        "from sklearn.linear_model import LogisticRegression"
      ]
    },
    {
      "cell_type": "code",
      "execution_count": 15,
      "metadata": {
        "colab": {
          "base_uri": "https://localhost:8080/"
        },
        "id": "DFYKqhjBSPJA",
        "outputId": "3e187f41-fbe3-431c-d9a4-1144bea5a2f1"
      },
      "outputs": [
        {
          "name": "stdout",
          "output_type": "stream",
          "text": [
            "Starting run 1\n",
            "Starting run 2\n",
            "Starting run 3\n",
            "Starting run 4\n",
            "Starting run 5\n",
            "Starting run 6\n",
            "Starting run 7\n",
            "Starting run 8\n",
            "Starting run 9\n",
            "Starting run 10\n",
            "Categorical columns encoded: ['artist_name', 'track_name', 'track_id', 'genre', 'decade']\n",
            "\n",
            "Training Random Forest...\n",
            "name: Random Forest\n",
            "Classification Report:\n",
            "              precision    recall  f1-score   support\n",
            "\n",
            "           0       0.00      0.00      0.00         1\n",
            "           1       0.50      0.03      0.05       183\n",
            "           2       0.65      0.56      0.60      1383\n",
            "           3       0.77      0.88      0.82      2433\n",
            "\n",
            "    accuracy                           0.73      4000\n",
            "   macro avg       0.48      0.37      0.37      4000\n",
            "weighted avg       0.72      0.73      0.71      4000\n",
            "\n",
            "\n",
            "Feature Importances:\n",
            "genre: 0.0754\n",
            "Unnamed: 0: 0.0739\n",
            "Unnamed: 0.1: 0.0738\n",
            "duration_ms: 0.0644\n",
            "instrumentalness: 0.0589\n",
            "danceability: 0.0579\n",
            "loudness: 0.0545\n",
            "acousticness: 0.0540\n",
            "energy: 0.0536\n",
            "speechiness: 0.0503\n",
            "year: 0.0489\n",
            "track_name: 0.0479\n",
            "valence: 0.0476\n",
            "liveness: 0.0472\n",
            "artist_name: 0.0470\n",
            "tempo: 0.0463\n",
            "track_id: 0.0444\n",
            "key: 0.0272\n",
            "decade: 0.0144\n",
            "mode: 0.0071\n",
            "time_signature: 0.0054\n",
            "\n",
            "Training XGBoost...\n"
          ]
        },
        {
          "name": "stderr",
          "output_type": "stream",
          "text": [
            "C:\\Users\\JoshL\\AppData\\Roaming\\Python\\Python312\\site-packages\\sklearn\\metrics\\_classification.py:1531: UndefinedMetricWarning: Precision is ill-defined and being set to 0.0 in labels with no predicted samples. Use `zero_division` parameter to control this behavior.\n",
            "  _warn_prf(average, modifier, f\"{metric.capitalize()} is\", len(result))\n",
            "C:\\Users\\JoshL\\AppData\\Roaming\\Python\\Python312\\site-packages\\sklearn\\metrics\\_classification.py:1531: UndefinedMetricWarning: Precision is ill-defined and being set to 0.0 in labels with no predicted samples. Use `zero_division` parameter to control this behavior.\n",
            "  _warn_prf(average, modifier, f\"{metric.capitalize()} is\", len(result))\n",
            "C:\\Users\\JoshL\\AppData\\Roaming\\Python\\Python312\\site-packages\\sklearn\\metrics\\_classification.py:1531: UndefinedMetricWarning: Precision is ill-defined and being set to 0.0 in labels with no predicted samples. Use `zero_division` parameter to control this behavior.\n",
            "  _warn_prf(average, modifier, f\"{metric.capitalize()} is\", len(result))\n",
            "c:\\Users\\JoshL\\anaconda3\\Lib\\site-packages\\xgboost\\training.py:183: UserWarning: [17:51:35] WARNING: C:\\actions-runner\\_work\\xgboost\\xgboost\\src\\learner.cc:738: \n",
            "Parameters: { \"use_label_encoder\" } are not used.\n",
            "\n",
            "  bst.update(dtrain, iteration=i, fobj=obj)\n"
          ]
        },
        {
          "name": "stdout",
          "output_type": "stream",
          "text": [
            "name: XGBoost\n",
            "Classification Report:\n",
            "              precision    recall  f1-score   support\n",
            "\n",
            "           0       0.00      0.00      0.00         1\n",
            "           1       0.50      0.08      0.14       183\n",
            "           2       0.68      0.67      0.67      1383\n",
            "           3       0.82      0.88      0.85      2433\n",
            "\n",
            "    accuracy                           0.77      4000\n",
            "   macro avg       0.50      0.41      0.42      4000\n",
            "weighted avg       0.76      0.77      0.76      4000\n",
            "\n",
            "\n",
            "Feature Importances:\n",
            "year: 0.1860\n",
            "genre: 0.1394\n",
            "instrumentalness: 0.0865\n",
            "duration_ms: 0.0517\n",
            "Unnamed: 0.1: 0.0482\n",
            "danceability: 0.0470\n",
            "loudness: 0.0432\n",
            "energy: 0.0410\n",
            "speechiness: 0.0396\n",
            "acousticness: 0.0376\n",
            "time_signature: 0.0344\n",
            "valence: 0.0342\n",
            "mode: 0.0329\n",
            "track_name: 0.0319\n",
            "artist_name: 0.0318\n",
            "liveness: 0.0305\n",
            "tempo: 0.0287\n",
            "track_id: 0.0282\n",
            "key: 0.0273\n",
            "Unnamed: 0: 0.0000\n",
            "decade: 0.0000\n",
            "\n",
            "Training CatBoost...\n"
          ]
        },
        {
          "name": "stderr",
          "output_type": "stream",
          "text": [
            "C:\\Users\\JoshL\\AppData\\Roaming\\Python\\Python312\\site-packages\\sklearn\\metrics\\_classification.py:1531: UndefinedMetricWarning: Precision is ill-defined and being set to 0.0 in labels with no predicted samples. Use `zero_division` parameter to control this behavior.\n",
            "  _warn_prf(average, modifier, f\"{metric.capitalize()} is\", len(result))\n",
            "C:\\Users\\JoshL\\AppData\\Roaming\\Python\\Python312\\site-packages\\sklearn\\metrics\\_classification.py:1531: UndefinedMetricWarning: Precision is ill-defined and being set to 0.0 in labels with no predicted samples. Use `zero_division` parameter to control this behavior.\n",
            "  _warn_prf(average, modifier, f\"{metric.capitalize()} is\", len(result))\n",
            "C:\\Users\\JoshL\\AppData\\Roaming\\Python\\Python312\\site-packages\\sklearn\\metrics\\_classification.py:1531: UndefinedMetricWarning: Precision is ill-defined and being set to 0.0 in labels with no predicted samples. Use `zero_division` parameter to control this behavior.\n",
            "  _warn_prf(average, modifier, f\"{metric.capitalize()} is\", len(result))\n"
          ]
        },
        {
          "name": "stdout",
          "output_type": "stream",
          "text": [
            "name: CatBoost\n",
            "Classification Report:\n",
            "              precision    recall  f1-score   support\n",
            "\n",
            "           0       0.00      0.00      0.00         1\n",
            "           1       0.48      0.08      0.13       183\n",
            "           2       0.68      0.66      0.67      1383\n",
            "           3       0.82      0.88      0.85      2433\n",
            "\n",
            "    accuracy                           0.77      4000\n",
            "   macro avg       0.49      0.40      0.41      4000\n",
            "weighted avg       0.75      0.77      0.75      4000\n",
            "\n",
            "\n",
            "Feature Importances:\n",
            "genre: 18.0536\n",
            "instrumentalness: 7.5115\n",
            "year: 6.6629\n",
            "danceability: 5.7318\n",
            "duration_ms: 5.3982\n",
            "artist_name: 5.3321\n",
            "speechiness: 4.9590\n",
            "loudness: 4.8790\n",
            "tempo: 4.5354\n",
            "acousticness: 4.4964\n",
            "energy: 4.2714\n",
            "liveness: 4.1666\n",
            "track_name: 4.1528\n",
            "valence: 3.9720\n",
            "track_id: 3.9655\n",
            "Unnamed: 0: 3.3023\n",
            "Unnamed: 0.1: 2.9603\n",
            "key: 2.3992\n",
            "decade: 1.7540\n",
            "mode: 1.3191\n",
            "time_signature: 0.1769\n",
            "\n",
            "Training Logistic Regression...\n"
          ]
        },
        {
          "name": "stderr",
          "output_type": "stream",
          "text": [
            "C:\\Users\\JoshL\\AppData\\Roaming\\Python\\Python312\\site-packages\\sklearn\\metrics\\_classification.py:1531: UndefinedMetricWarning: Precision is ill-defined and being set to 0.0 in labels with no predicted samples. Use `zero_division` parameter to control this behavior.\n",
            "  _warn_prf(average, modifier, f\"{metric.capitalize()} is\", len(result))\n",
            "C:\\Users\\JoshL\\AppData\\Roaming\\Python\\Python312\\site-packages\\sklearn\\metrics\\_classification.py:1531: UndefinedMetricWarning: Precision is ill-defined and being set to 0.0 in labels with no predicted samples. Use `zero_division` parameter to control this behavior.\n",
            "  _warn_prf(average, modifier, f\"{metric.capitalize()} is\", len(result))\n",
            "C:\\Users\\JoshL\\AppData\\Roaming\\Python\\Python312\\site-packages\\sklearn\\metrics\\_classification.py:1531: UndefinedMetricWarning: Precision is ill-defined and being set to 0.0 in labels with no predicted samples. Use `zero_division` parameter to control this behavior.\n",
            "  _warn_prf(average, modifier, f\"{metric.capitalize()} is\", len(result))\n",
            "C:\\Users\\JoshL\\AppData\\Roaming\\Python\\Python312\\site-packages\\sklearn\\linear_model\\_logistic.py:1256: FutureWarning: 'multi_class' was deprecated in version 1.5 and will be removed in 1.7. Use OneVsRestClassifier(LogisticRegression(..)) instead. Leave it to its default value to avoid this warning.\n",
            "  warnings.warn(\n",
            "C:\\Users\\JoshL\\AppData\\Roaming\\Python\\Python312\\site-packages\\sklearn\\linear_model\\_logistic.py:469: ConvergenceWarning: lbfgs failed to converge (status=1):\n",
            "STOP: TOTAL NO. of ITERATIONS REACHED LIMIT.\n",
            "\n",
            "Increase the number of iterations (max_iter) or scale the data as shown in:\n",
            "    https://scikit-learn.org/stable/modules/preprocessing.html\n",
            "Please also refer to the documentation for alternative solver options:\n",
            "    https://scikit-learn.org/stable/modules/linear_model.html#logistic-regression\n",
            "  n_iter_i = _check_optimize_result(\n",
            "C:\\Users\\JoshL\\AppData\\Roaming\\Python\\Python312\\site-packages\\sklearn\\linear_model\\_logistic.py:469: ConvergenceWarning: lbfgs failed to converge (status=1):\n",
            "STOP: TOTAL NO. of ITERATIONS REACHED LIMIT.\n",
            "\n",
            "Increase the number of iterations (max_iter) or scale the data as shown in:\n",
            "    https://scikit-learn.org/stable/modules/preprocessing.html\n",
            "Please also refer to the documentation for alternative solver options:\n",
            "    https://scikit-learn.org/stable/modules/linear_model.html#logistic-regression\n",
            "  n_iter_i = _check_optimize_result(\n",
            "C:\\Users\\JoshL\\AppData\\Roaming\\Python\\Python312\\site-packages\\sklearn\\linear_model\\_logistic.py:469: ConvergenceWarning: lbfgs failed to converge (status=1):\n",
            "STOP: TOTAL NO. of ITERATIONS REACHED LIMIT.\n",
            "\n",
            "Increase the number of iterations (max_iter) or scale the data as shown in:\n",
            "    https://scikit-learn.org/stable/modules/preprocessing.html\n",
            "Please also refer to the documentation for alternative solver options:\n",
            "    https://scikit-learn.org/stable/modules/linear_model.html#logistic-regression\n",
            "  n_iter_i = _check_optimize_result(\n"
          ]
        },
        {
          "name": "stdout",
          "output_type": "stream",
          "text": [
            "name: Logistic Regression\n",
            "Classification Report:\n",
            "              precision    recall  f1-score   support\n",
            "\n",
            "           0       0.00      0.00      0.00         1\n",
            "           1       0.07      0.21      0.10       183\n",
            "           2       0.44      0.33      0.38      1383\n",
            "           3       0.77      0.54      0.63      2433\n",
            "\n",
            "    accuracy                           0.45      4000\n",
            "   macro avg       0.32      0.27      0.28      4000\n",
            "weighted avg       0.63      0.45      0.52      4000\n",
            "\n",
            "\n",
            "Feature Importances:\n",
            "Unnamed: 0.1: 7.1877\n",
            "Unnamed: 0: 7.1877\n",
            "loudness: 0.2546\n",
            "key: 0.2169\n",
            "instrumentalness: 0.0278\n",
            "mode: 0.0202\n",
            "tempo: 0.0202\n",
            "decade: 0.0184\n",
            "acousticness: 0.0151\n",
            "time_signature: 0.0126\n",
            "valence: 0.0079\n",
            "speechiness: 0.0070\n",
            "genre: 0.0067\n",
            "danceability: 0.0048\n",
            "energy: 0.0024\n",
            "year: 0.0017\n",
            "liveness: 0.0013\n",
            "track_name: 0.0002\n",
            "track_id: 0.0001\n",
            "artist_name: 0.0001\n",
            "duration_ms: 0.0000\n"
          ]
        },
        {
          "name": "stderr",
          "output_type": "stream",
          "text": [
            "C:\\Users\\JoshL\\AppData\\Roaming\\Python\\Python312\\site-packages\\sklearn\\linear_model\\_logistic.py:469: ConvergenceWarning: lbfgs failed to converge (status=1):\n",
            "STOP: TOTAL NO. of ITERATIONS REACHED LIMIT.\n",
            "\n",
            "Increase the number of iterations (max_iter) or scale the data as shown in:\n",
            "    https://scikit-learn.org/stable/modules/preprocessing.html\n",
            "Please also refer to the documentation for alternative solver options:\n",
            "    https://scikit-learn.org/stable/modules/linear_model.html#logistic-regression\n",
            "  n_iter_i = _check_optimize_result(\n"
          ]
        }
      ],
      "source": [
        "# --- MODEL TRAINING ---\n",
        "n_runs = 10\n",
        "models = {\n",
        "    \"Random Forest\": RandomForestClassifier(n_estimators=400, random_state=69),\n",
        "    \"XGBoost\": xgb.XGBClassifier(\n",
        "        objective='multi:softmax',\n",
        "        num_class=4,\n",
        "        eval_metric='mlogloss',\n",
        "        use_label_encoder=False,\n",
        "        random_state=69),\n",
        "    \"CatBoost\": CatBoostClassifier(\n",
        "        iterations=400,\n",
        "        depth=8,\n",
        "        learning_rate=0.1,\n",
        "        loss_function='MultiClass',\n",
        "        verbose=False,\n",
        "        random_state=69),\n",
        "    \"Logistic Regression\": LogisticRegression(\n",
        "        max_iter=1000,\n",
        "        multi_class='ovr',\n",
        "        class_weight='balanced')\n",
        "}\n",
        "all_results = {model_name: [] for model_name in models.keys()}\n",
        "\n",
        "for run in range(n_runs):\n",
        "    print(\"Starting run\", run + 1)\n",
        "    df = df.sample(20000, random_state=run)\n",
        "\n",
        "if 'df' in locals():\n",
        "    try:\n",
        "        X = df.drop(['popularity', 'pop_bucket'], axis=1)\n",
        "        y = df['pop_bucket']\n",
        "\n",
        "        # Identify and label encode categorical columns\n",
        "        categorical_cols = X.select_dtypes(include=['object']).columns.tolist()\n",
        "\n",
        "        le = LabelEncoder()\n",
        "        for col in categorical_cols:\n",
        "            X[col] = le.fit_transform(X[col])\n",
        "\n",
        "        print(f\"Categorical columns encoded: {categorical_cols}\")\n",
        "\n",
        "        # Split data into training and testing sets\n",
        "        X_train, X_test, y_train, y_test = train_test_split(X, y, test_size=0.2, random_state=42)\n",
        "\n",
        "\n",
        "        results = {}\n",
        "\n",
        "        # Train and evaluate\n",
        "        for name, model in models.items():\n",
        "            print(f\"\\nTraining {name}...\")\n",
        "            model.fit(X_train, y_train)\n",
        "            y_pred = model.predict(X_test)\n",
        "            acc = accuracy_score(y_test, y_pred)\n",
        "            results[name] = acc\n",
        "            all_results[name].append(acc)\n",
        "            print(\"name:\", name)\n",
        "\n",
        "            print(\"Classification Report:\")\n",
        "            print(classification_report(y_test, y_pred))\n",
        "\n",
        "            try:\n",
        "                if hasattr(model, \"feature_importances_\"):\n",
        "                    importances = model.feature_importances_\n",
        "                elif hasattr(model, \"coef_\"):\n",
        "                    importances = np.abs(model.coef_[0])  # For Logistic Regression\n",
        "                else:\n",
        "                    importances = None\n",
        "\n",
        "                if importances is not None:\n",
        "                    feature_importances = sorted(\n",
        "                        zip(X_train.columns, importances), key=lambda x: x[1], reverse=True\n",
        "                    )\n",
        "                    print(\"\\nFeature Importances:\")\n",
        "                    for feature, importance in feature_importances:\n",
        "                        print(f\"{feature}: {importance:.4f}\")\n",
        "                else:\n",
        "                    print(\"Feature importances not available for this model.\")\n",
        "            except Exception as e:\n",
        "                print(f\"An error occurred while calculating feature importances: {e}\")\n",
        "\n",
        "    except KeyError as e:\n",
        "        print(f\"Error: Target column '{e}' not found in the DataFrame.\")\n",
        "    except Exception as e:\n",
        "        print(f\"An error occurred during model training or evaluation: {e}\")"
      ]
    },
    {
      "cell_type": "code",
      "execution_count": 16,
      "metadata": {
        "colab": {
          "base_uri": "https://localhost:8080/"
        },
        "id": "BOIJbA8CPtBU",
        "outputId": "d347ef8b-a31e-4400-b7bc-a8387cbf63ad"
      },
      "outputs": [
        {
          "name": "stdout",
          "output_type": "stream",
          "text": [
            "Average Accuracy for Each Model:\n",
            "                 Model  Average Accuracy\n",
            "1              XGBoost           0.77025\n",
            "2             CatBoost           0.76750\n",
            "0        Random Forest           0.73375\n",
            "3  Logistic Regression           0.45100\n"
          ]
        }
      ],
      "source": [
        "average_results = {name: np.mean(accs) for name, accs in all_results.items()}\n",
        "avg_df = pd.DataFrame(average_results.items(), columns=[\"Model\", \"Average Accuracy\"])\n",
        "avg_df = avg_df.sort_values(\"Average Accuracy\", ascending=False)\n",
        "\n",
        "print(\"Average Accuracy for Each Model:\")\n",
        "print(avg_df)"
      ]
    },
    {
      "cell_type": "code",
      "execution_count": null,
      "metadata": {},
      "outputs": [],
      "source": []
    }
  ],
  "metadata": {
    "colab": {
      "provenance": []
    },
    "kernelspec": {
      "display_name": "base",
      "language": "python",
      "name": "python3"
    },
    "language_info": {
      "codemirror_mode": {
        "name": "ipython",
        "version": 3
      },
      "file_extension": ".py",
      "mimetype": "text/x-python",
      "name": "python",
      "nbconvert_exporter": "python",
      "pygments_lexer": "ipython3",
      "version": "3.12.3"
    }
  },
  "nbformat": 4,
  "nbformat_minor": 0
}
