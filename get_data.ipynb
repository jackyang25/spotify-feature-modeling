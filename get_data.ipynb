{
 "cells": [
  {
   "cell_type": "code",
   "execution_count": null,
   "metadata": {},
   "outputs": [],
   "source": [
    "import requests\n",
    "import pandas"
   ]
  },
  {
   "cell_type": "code",
   "execution_count": null,
   "metadata": {},
   "outputs": [],
   "source": [
    "playlists=[]"
   ]
  },
  {
   "cell_type": "code",
   "execution_count": null,
   "metadata": {},
   "outputs": [],
   "source": [
    "tracks=[]\n",
    "nexts=[]\n",
    "\n",
    "for playlist in playlists:\n",
    "    response=requests.get(f\"https://api.spotify.com/v1/playlists/{playlist}/tracks?limit=50\",headers={\"Authorization\": f\"Bearer {access}\"}).json()\n",
    "    songs=response['items']\n",
    "    for song in songs:\n",
    "        tracks.append(song['track']['href'])\n",
    "    if response['next']:\n",
    "        nexts.append(response['next'])\n",
    "print(len(tracks))"
   ]
  },
  {
   "cell_type": "code",
   "execution_count": null,
   "metadata": {},
   "outputs": [],
   "source": [
    "track_pop=[]\n",
    "\n",
    "for track in tracks[:200]:\n",
    "    response=requests.get(track,headers={\"Authorization\": f\"Bearer {access}\"}).json()\n",
    "    track_pop.append(response[\"popularity\"])"
   ]
  },
  {
   "cell_type": "code",
   "execution_count": null,
   "metadata": {},
   "outputs": [],
   "source": [
    "track_features=[]\n",
    "\n",
    "for track in tracks[:200]:\n",
    "    response=requests.get(track.replace(\"tracks\",\"audio-features\"),headers={\"Authorization\": f\"Bearer {access}\"}).json()\n",
    "    track_pop.append(response)"
   ]
  },
  {
   "cell_type": "code",
   "execution_count": null,
   "metadata": {},
   "outputs": [],
   "source": []
  }
 ],
 "metadata": {
  "kernelspec": {
   "display_name": "base",
   "language": "python",
   "name": "python3"
  },
  "language_info": {
   "codemirror_mode": {
    "name": "ipython",
    "version": 3
   },
   "file_extension": ".py",
   "mimetype": "text/x-python",
   "name": "python",
   "nbconvert_exporter": "python",
   "pygments_lexer": "ipython3",
   "version": "3.12.3"
  }
 },
 "nbformat": 4,
 "nbformat_minor": 2
}
