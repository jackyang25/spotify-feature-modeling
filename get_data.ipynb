{
 "cells": [
  {
   "cell_type": "code",
   "execution_count": 1,
   "metadata": {},
   "outputs": [],
   "source": [
    "import requests\n",
    "import pandas"
   ]
  },
  {
   "cell_type": "code",
   "execution_count": null,
   "metadata": {},
   "outputs": [],
   "source": [
    "access=\"\""
   ]
  },
  {
   "cell_type": "code",
   "execution_count": 3,
   "metadata": {},
   "outputs": [],
   "source": [
    "playlists=[\n",
    "    '31LVuXlRYRVq4Z6krWGedS','5KmBulox9POMt9hOt3VV1x','19PgP2QSGPcm6Ve8VhbtpG','3C64V048fGyQfCjmu9TIGA',\n",
    "    '2XXbR1BBAsLiaoKLbSA3WU','5XALIurWS8TuF6kk8bj438','2fmTTbBkXi8pewbUvG3CeZ'\n",
    "]"
   ]
  },
  {
   "cell_type": "code",
   "execution_count": 4,
   "metadata": {},
   "outputs": [
    {
     "name": "stdout",
     "output_type": "stream",
     "text": [
      "350\n"
     ]
    }
   ],
   "source": [
    "tracks=[]\n",
    "nexts=[]\n",
    "\n",
    "for playlist in playlists:\n",
    "    response=requests.get(f\"https://api.spotify.com/v1/playlists/{playlist}/tracks?limit=50\",headers={\"Authorization\": f\"Bearer {access}\"}).json()\n",
    "    songs=response['items']\n",
    "    for song in songs:\n",
    "        #print(type(song))\n",
    "        tracks.append(song['track']['href'])\n",
    "    if response['next']:\n",
    "        nexts.append(response['next'])\n",
    "print(len(tracks))"
   ]
  },
  {
   "cell_type": "code",
   "execution_count": 8,
   "metadata": {},
   "outputs": [],
   "source": [
    "track_pop=[]\n",
    "\n",
    "for track in tracks[:200]:\n",
    "    response=requests.get(track,headers={\"Authorization\": f\"Bearer {access}\"}).json()\n",
    "    #print(response[\"popularity\"])\n",
    "    track_pop.append(response[\"popularity\"])"
   ]
  },
  {
   "cell_type": "code",
   "execution_count": null,
   "metadata": {},
   "outputs": [
    {
     "data": {
      "text/plain": [
       "{'error': {'status': 403}}"
      ]
     },
     "execution_count": 14,
     "metadata": {},
     "output_type": "execute_result"
    }
   ],
   "source": [
    "track_features=[]\n",
    "\n",
    "for track in tracks[:200]:\n",
    "    response=requests.get(track.replace(\"tracks\",\"audio-features\"),headers={\"Authorization\": f\"Bearer {access}\"}).json()\n",
    "    track_pop.append(response)"
   ]
  },
  {
   "cell_type": "code",
   "execution_count": null,
   "metadata": {},
   "outputs": [],
   "source": []
  }
 ],
 "metadata": {
  "kernelspec": {
   "display_name": "base",
   "language": "python",
   "name": "python3"
  },
  "language_info": {
   "codemirror_mode": {
    "name": "ipython",
    "version": 3
   },
   "file_extension": ".py",
   "mimetype": "text/x-python",
   "name": "python",
   "nbconvert_exporter": "python",
   "pygments_lexer": "ipython3",
   "version": "3.12.3"
  }
 },
 "nbformat": 4,
 "nbformat_minor": 2
}
