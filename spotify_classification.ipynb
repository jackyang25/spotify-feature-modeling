{
  "nbformat": 4,
  "nbformat_minor": 0,
  "metadata": {
    "colab": {
      "provenance": []
    },
    "kernelspec": {
      "name": "python3",
      "display_name": "Python 3"
    },
    "language_info": {
      "name": "python"
    }
  },
  "cells": [
    {
      "cell_type": "code",
      "source": [
        "!pip install catboost"
      ],
      "metadata": {
        "id": "HvAhJfdGQOKw"
      },
      "execution_count": null,
      "outputs": []
    },
    {
      "cell_type": "code",
      "source": [
        "import pandas as pd\n",
        "import xgboost as xgb\n",
        "from lightgbm import LGBMClassifier\n",
        "from catboost import CatBoostClassifier\n",
        "from sklearn.ensemble import RandomForestClassifier\n",
        "from sklearn.model_selection import train_test_split\n",
        "from sklearn.preprocessing import LabelEncoder\n",
        "from sklearn.metrics import accuracy_score\n",
        "from sklearn.metrics import f1_score, confusion_matrix, classification_report"
      ],
      "metadata": {
        "id": "wClLQzkbQMsb"
      },
      "execution_count": 16,
      "outputs": []
    },
    {
      "cell_type": "code",
      "execution_count": 13,
      "metadata": {
        "colab": {
          "base_uri": "https://localhost:8080/"
        },
        "id": "Z9fBCktZHaqS",
        "outputId": "cb91ed47-6a36-4152-bd41-7d10927b2ef1"
      },
      "outputs": [
        {
          "output_type": "stream",
          "name": "stdout",
          "text": [
            "Collecting catboost\n",
            "  Downloading catboost-1.2.8-cp311-cp311-manylinux2014_x86_64.whl.metadata (1.2 kB)\n",
            "Requirement already satisfied: graphviz in /usr/local/lib/python3.11/dist-packages (from catboost) (0.20.3)\n",
            "Requirement already satisfied: matplotlib in /usr/local/lib/python3.11/dist-packages (from catboost) (3.10.0)\n",
            "Requirement already satisfied: numpy<3.0,>=1.16.0 in /usr/local/lib/python3.11/dist-packages (from catboost) (2.0.2)\n",
            "Requirement already satisfied: pandas>=0.24 in /usr/local/lib/python3.11/dist-packages (from catboost) (2.2.2)\n",
            "Requirement already satisfied: scipy in /usr/local/lib/python3.11/dist-packages (from catboost) (1.14.1)\n",
            "Requirement already satisfied: plotly in /usr/local/lib/python3.11/dist-packages (from catboost) (5.24.1)\n",
            "Requirement already satisfied: six in /usr/local/lib/python3.11/dist-packages (from catboost) (1.17.0)\n",
            "Requirement already satisfied: python-dateutil>=2.8.2 in /usr/local/lib/python3.11/dist-packages (from pandas>=0.24->catboost) (2.8.2)\n",
            "Requirement already satisfied: pytz>=2020.1 in /usr/local/lib/python3.11/dist-packages (from pandas>=0.24->catboost) (2025.2)\n",
            "Requirement already satisfied: tzdata>=2022.7 in /usr/local/lib/python3.11/dist-packages (from pandas>=0.24->catboost) (2025.2)\n",
            "Requirement already satisfied: contourpy>=1.0.1 in /usr/local/lib/python3.11/dist-packages (from matplotlib->catboost) (1.3.2)\n",
            "Requirement already satisfied: cycler>=0.10 in /usr/local/lib/python3.11/dist-packages (from matplotlib->catboost) (0.12.1)\n",
            "Requirement already satisfied: fonttools>=4.22.0 in /usr/local/lib/python3.11/dist-packages (from matplotlib->catboost) (4.57.0)\n",
            "Requirement already satisfied: kiwisolver>=1.3.1 in /usr/local/lib/python3.11/dist-packages (from matplotlib->catboost) (1.4.8)\n",
            "Requirement already satisfied: packaging>=20.0 in /usr/local/lib/python3.11/dist-packages (from matplotlib->catboost) (24.2)\n",
            "Requirement already satisfied: pillow>=8 in /usr/local/lib/python3.11/dist-packages (from matplotlib->catboost) (11.1.0)\n",
            "Requirement already satisfied: pyparsing>=2.3.1 in /usr/local/lib/python3.11/dist-packages (from matplotlib->catboost) (3.2.3)\n",
            "Requirement already satisfied: tenacity>=6.2.0 in /usr/local/lib/python3.11/dist-packages (from plotly->catboost) (9.1.2)\n",
            "Downloading catboost-1.2.8-cp311-cp311-manylinux2014_x86_64.whl (99.2 MB)\n",
            "\u001b[2K   \u001b[90m━━━━━━━━━━━━━━━━━━━━━━━━━━━━━━━━━━━━━━━━\u001b[0m \u001b[32m99.2/99.2 MB\u001b[0m \u001b[31m7.9 MB/s\u001b[0m eta \u001b[36m0:00:00\u001b[0m\n",
            "\u001b[?25hInstalling collected packages: catboost\n",
            "Successfully installed catboost-1.2.8\n",
            "File loaded successfully.\n",
            "Bucketing completed. Here's a sample:\n",
            "   popularity  popularity_bucket\n",
            "0          22                  1\n",
            "1          16                  0\n",
            "2           0                  0\n",
            "3          36                  1\n",
            "4          26                  1\n"
          ]
        }
      ],
      "source": [
        "# --- LOAD DATA ---\n",
        "try:\n",
        "    df = pd.read_csv('spotify_cleaned.csv')\n",
        "    print(\"File loaded successfully.\")\n",
        "\n",
        "    # Bucket 'popularity'\n",
        "    df['popularity_bucket'] = pd.cut(\n",
        "        df['popularity'],\n",
        "        bins=[-1, 20, 40, 60, 80, 100],\n",
        "        labels=[0, 1, 2, 3, 4]\n",
        "    ).astype(int)\n",
        "\n",
        "    print(\"Bucketing completed. Here's a sample:\")\n",
        "    print(df[['popularity', 'popularity_bucket']].head())\n",
        "\n",
        "except FileNotFoundError:\n",
        "    print(\"Error: File 'spotify_cleaned.csv' not found.\")\n",
        "except pd.errors.EmptyDataError:\n",
        "    print(\"Error: 'spotify_cleaned.csv' is empty.\")\n",
        "except pd.errors.ParserError:\n",
        "    print(\"Error: Unable to parse 'spotify_cleaned.csv'. Check file format.\")\n",
        "except Exception as e:\n",
        "    print(f\"An unexpected error occurred: {e}\")"
      ]
    },
    {
      "cell_type": "code",
      "source": [
        "print(y_train.value_counts(normalize=True)) # Check if classes are balanced"
      ],
      "metadata": {
        "colab": {
          "base_uri": "https://localhost:8080/"
        },
        "id": "jFqM2UDGP5Cs",
        "outputId": "1ab896e8-94c4-4b5a-9797-a7bf6fccd38e"
      },
      "execution_count": 14,
      "outputs": [
        {
          "output_type": "stream",
          "name": "stdout",
          "text": [
            "popularity_bucket\n",
            "0    0.416100\n",
            "2    0.321678\n",
            "1    0.221284\n",
            "3    0.039897\n",
            "4    0.001041\n",
            "Name: proportion, dtype: float64\n"
          ]
        }
      ]
    },
    {
      "cell_type": "markdown",
      "source": [
        "Use a tree model like XGBoost. Better for tabular data and known features."
      ],
      "metadata": {
        "id": "OkJhEC9MJQ4W"
      }
    },
    {
      "cell_type": "code",
      "source": [
        "# --- MODEL TRAINING ---\n",
        "if 'df' in locals():\n",
        "    try:\n",
        "        X = df.drop(['popularity', 'popularity_bucket'], axis=1)\n",
        "        y = df['popularity_bucket']\n",
        "\n",
        "        # Identify and label encode categorical columns\n",
        "        categorical_cols = X.select_dtypes(include=['object']).columns.tolist()\n",
        "\n",
        "        le = LabelEncoder()\n",
        "        for col in categorical_cols:\n",
        "            X[col] = le.fit_transform(X[col])\n",
        "\n",
        "        print(f\"Categorical columns encoded: {categorical_cols}\")\n",
        "\n",
        "        # Split data into training and testing sets\n",
        "        X_train, X_test, y_train, y_test = train_test_split(X, y, test_size=0.2, random_state=42)\n",
        "\n",
        "        # Models to try\n",
        "        models = {\n",
        "            \"XGBoost\": xgb.XGBClassifier(\n",
        "                objective='multi:softmax',\n",
        "                num_class=5,\n",
        "                eval_metric='mlogloss',\n",
        "                use_label_encoder=False,\n",
        "                random_state=42\n",
        "            )\n",
        "        }\n",
        "\n",
        "        results = {}\n",
        "\n",
        "        # Train and evaluate\n",
        "        for name, model in models.items():\n",
        "            print(f\"\\nTraining {name}...\")\n",
        "            model.fit(X_train, y_train)\n",
        "            y_pred = model.predict(X_test)\n",
        "            acc = accuracy_score(y_test, y_pred)\n",
        "            results[name] = acc\n",
        "\n",
        "            print(\"Classification Report:\")\n",
        "            print(classification_report(y_test, y_pred))\n",
        "\n",
        "\n",
        "    except KeyError as e:\n",
        "        print(f\"Error: Target column '{e}' not found in the DataFrame.\")\n",
        "    except Exception as e:\n",
        "        print(f\"An error occurred during model training or evaluation: {e}\")"
      ],
      "metadata": {
        "colab": {
          "base_uri": "https://localhost:8080/"
        },
        "id": "DFYKqhjBSPJA",
        "outputId": "8f517766-dfa8-4f72-92cc-dec78aa0b10e"
      },
      "execution_count": 22,
      "outputs": [
        {
          "output_type": "stream",
          "name": "stdout",
          "text": [
            "Categorical columns encoded: ['artist_name', 'track_name', 'track_id', 'genre', 'decade']\n",
            "\n",
            "Training XGBoost...\n"
          ]
        },
        {
          "output_type": "stream",
          "name": "stderr",
          "text": [
            "/usr/local/lib/python3.11/dist-packages/xgboost/core.py:158: UserWarning: [04:09:24] WARNING: /workspace/src/learner.cc:740: \n",
            "Parameters: { \"use_label_encoder\" } are not used.\n",
            "\n",
            "  warnings.warn(smsg, UserWarning)\n"
          ]
        },
        {
          "output_type": "stream",
          "name": "stdout",
          "text": [
            "Classification Report:\n",
            "              precision    recall  f1-score   support\n",
            "\n",
            "           0       0.83      0.92      0.87     27998\n",
            "           1       0.78      0.52      0.62     15117\n",
            "           2       0.91      0.98      0.94     21813\n",
            "           3       0.85      0.99      0.92      2719\n",
            "           4       1.00      0.25      0.40        84\n",
            "\n",
            "    accuracy                           0.85     67731\n",
            "   macro avg       0.88      0.73      0.75     67731\n",
            "weighted avg       0.85      0.85      0.84     67731\n",
            "\n"
          ]
        }
      ]
    }
  ]
}